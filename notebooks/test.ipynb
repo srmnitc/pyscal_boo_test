{
 "cells": [
  {
   "cell_type": "markdown",
   "metadata": {},
   "source": [
    "# Calculation of Steinhardt parameters using pyscal\n",
    "\n",
    "Import statements"
   ]
  },
  {
   "cell_type": "code",
   "execution_count": 1,
   "metadata": {},
   "outputs": [],
   "source": [
    "import pyscal.core as pc\n",
    "import pyscal.crystal_structures as pcs\n",
    "from ase.build import bulk\n",
    "import numpy as np"
   ]
  },
  {
   "cell_type": "markdown",
   "metadata": {},
   "source": [
    "Function to calculate and print q values. Structures will be created using both ase and pyscal crystal structures module."
   ]
  },
  {
   "cell_type": "code",
   "execution_count": 76,
   "metadata": {},
   "outputs": [],
   "source": [
    "def calc_q_ase(element=None, reps=None):\n",
    "    ob = bulk(element).repeat(reps)\n",
    "    sys = pc.System()\n",
    "    sys.read_inputfile(ob, format=\"ase\")\n",
    "    sys.find_neighbors(method=\"cutoff\", cutoff=0)\n",
    "    sys.calculate_q([4,6,8,10,12])\n",
    "    q = sys.get_qvals([4, 6, 8, 10, 12])\n",
    "    print(\"q4: %.2f, q6: %.2f, q8: %.2f, q10: %.2f, q12: %.2f\"%(np.mean(q[0]),\n",
    "        np.mean(q[1]), np.mean(q[2]), np.mean(q[3]), np.mean(q[4])))"
   ]
  },
  {
   "cell_type": "code",
   "execution_count": 100,
   "metadata": {},
   "outputs": [],
   "source": [
    "def calc_q_pcs(structure=None, alat=None, reps=None, ca_ratio=1.633):\n",
    "    atoms, box = pcs.make_crystal(structure=structure,\n",
    "        lattice_constant=alat, repetitions=reps, ca_ratio=ca_ratio)\n",
    "    sys = pc.System()\n",
    "    sys.box = box\n",
    "    sys.atoms = atoms\n",
    "    sys.find_neighbors(method=\"cutoff\", cutoff=0)\n",
    "    sys.calculate_q([4,6,8,10,12])\n",
    "    q = sys.get_qvals([4, 6, 8, 10, 12])\n",
    "    print(\"q4: %.2f, q6: %.2f, q8: %.2f, q10: %.2f, q12: %.2f\"%(np.mean(q[0]),\n",
    "        np.mean(q[1]), np.mean(q[2]), np.mean(q[3]), np.mean(q[4])))"
   ]
  },
  {
   "cell_type": "markdown",
   "metadata": {},
   "source": [
    "## BCC"
   ]
  },
  {
   "cell_type": "code",
   "execution_count": 77,
   "metadata": {},
   "outputs": [
    {
     "name": "stdout",
     "output_type": "stream",
     "text": [
      "q4: 0.04, q6: 0.51, q8: 0.43, q10: 0.20, q12: 0.40\n"
     ]
    }
   ],
   "source": [
    "calc_q_ase(element=\"Nb\", reps=(1,1,1))"
   ]
  },
  {
   "cell_type": "code",
   "execution_count": 78,
   "metadata": {},
   "outputs": [
    {
     "name": "stdout",
     "output_type": "stream",
     "text": [
      "q4: 0.04, q6: 0.51, q8: 0.43, q10: 0.20, q12: 0.40\n"
     ]
    }
   ],
   "source": [
    "calc_q_ase(element=\"Nb\", reps=(2,2,2))"
   ]
  },
  {
   "cell_type": "code",
   "execution_count": 79,
   "metadata": {},
   "outputs": [
    {
     "name": "stdout",
     "output_type": "stream",
     "text": [
      "q4: 0.04, q6: 0.51, q8: 0.43, q10: 0.20, q12: 0.40\n"
     ]
    }
   ],
   "source": [
    "calc_q_ase(element=\"Nb\", reps=(3,3,3))"
   ]
  },
  {
   "cell_type": "code",
   "execution_count": 80,
   "metadata": {},
   "outputs": [
    {
     "name": "stdout",
     "output_type": "stream",
     "text": [
      "q4: 0.04, q6: 0.51, q8: 0.43, q10: 0.20, q12: 0.40\n"
     ]
    }
   ],
   "source": [
    "calc_q_ase(element=\"Nb\", reps=(3,3,2))"
   ]
  },
  {
   "cell_type": "code",
   "execution_count": 83,
   "metadata": {},
   "outputs": [
    {
     "name": "stdout",
     "output_type": "stream",
     "text": [
      "q4: 0.04, q6: 0.51, q8: 0.43, q10: 0.20, q12: 0.40\n"
     ]
    }
   ],
   "source": [
    "calc_q_pcs(structure=\"bcc\", alat=4.00, reps=(1,1,1))"
   ]
  },
  {
   "cell_type": "code",
   "execution_count": 84,
   "metadata": {},
   "outputs": [
    {
     "name": "stdout",
     "output_type": "stream",
     "text": [
      "q4: 0.04, q6: 0.51, q8: 0.43, q10: 0.20, q12: 0.40\n"
     ]
    }
   ],
   "source": [
    "calc_q_pcs(structure=\"bcc\", alat=4.00, reps=(2,2,2))"
   ]
  },
  {
   "cell_type": "code",
   "execution_count": 85,
   "metadata": {},
   "outputs": [
    {
     "name": "stdout",
     "output_type": "stream",
     "text": [
      "q4: 0.04, q6: 0.51, q8: 0.43, q10: 0.20, q12: 0.40\n"
     ]
    }
   ],
   "source": [
    "calc_q_pcs(structure=\"bcc\", alat=4.00, reps=(3,3,3))"
   ]
  },
  {
   "cell_type": "code",
   "execution_count": 101,
   "metadata": {},
   "outputs": [
    {
     "name": "stdout",
     "output_type": "stream",
     "text": [
      "q4: 0.04, q6: 0.51, q8: 0.43, q10: 0.20, q12: 0.40\n"
     ]
    }
   ],
   "source": [
    "calc_q_pcs(structure=\"bcc\", alat=4.00, reps=(3,3,2))"
   ]
  },
  {
   "cell_type": "markdown",
   "metadata": {},
   "source": [
    "## FCC"
   ]
  },
  {
   "cell_type": "code",
   "execution_count": 87,
   "metadata": {},
   "outputs": [
    {
     "name": "stdout",
     "output_type": "stream",
     "text": [
      "q4: 0.19, q6: 0.57, q8: 0.40, q10: 0.01, q12: 0.60\n"
     ]
    }
   ],
   "source": [
    "calc_q_ase(element=\"Al\", reps=(1,1,1))"
   ]
  },
  {
   "cell_type": "code",
   "execution_count": 88,
   "metadata": {},
   "outputs": [
    {
     "name": "stdout",
     "output_type": "stream",
     "text": [
      "q4: 0.19, q6: 0.57, q8: 0.40, q10: 0.01, q12: 0.60\n"
     ]
    }
   ],
   "source": [
    "calc_q_ase(element=\"Al\", reps=(2,2,2))"
   ]
  },
  {
   "cell_type": "code",
   "execution_count": 89,
   "metadata": {},
   "outputs": [
    {
     "name": "stdout",
     "output_type": "stream",
     "text": [
      "q4: 0.19, q6: 0.57, q8: 0.40, q10: 0.01, q12: 0.60\n"
     ]
    }
   ],
   "source": [
    "calc_q_ase(element=\"Al\", reps=(3,3,3))"
   ]
  },
  {
   "cell_type": "code",
   "execution_count": 90,
   "metadata": {},
   "outputs": [
    {
     "name": "stdout",
     "output_type": "stream",
     "text": [
      "q4: 0.19, q6: 0.57, q8: 0.40, q10: 0.01, q12: 0.60\n"
     ]
    }
   ],
   "source": [
    "calc_q_ase(element=\"Al\", reps=(3,3,2))"
   ]
  },
  {
   "cell_type": "code",
   "execution_count": 91,
   "metadata": {},
   "outputs": [
    {
     "name": "stdout",
     "output_type": "stream",
     "text": [
      "q4: 0.19, q6: 0.57, q8: 0.40, q10: 0.01, q12: 0.60\n"
     ]
    }
   ],
   "source": [
    "calc_q_pcs(structure=\"fcc\", alat=4.00, reps=(1,1,1))"
   ]
  },
  {
   "cell_type": "code",
   "execution_count": 92,
   "metadata": {},
   "outputs": [
    {
     "name": "stdout",
     "output_type": "stream",
     "text": [
      "q4: 0.19, q6: 0.57, q8: 0.40, q10: 0.01, q12: 0.60\n"
     ]
    }
   ],
   "source": [
    "calc_q_pcs(structure=\"fcc\", alat=4.00, reps=(2,2,2))"
   ]
  },
  {
   "cell_type": "code",
   "execution_count": 93,
   "metadata": {},
   "outputs": [
    {
     "name": "stdout",
     "output_type": "stream",
     "text": [
      "q4: 0.19, q6: 0.57, q8: 0.40, q10: 0.01, q12: 0.60\n"
     ]
    }
   ],
   "source": [
    "calc_q_pcs(structure=\"fcc\", alat=4.00, reps=(3,3,3))"
   ]
  },
  {
   "cell_type": "code",
   "execution_count": 94,
   "metadata": {},
   "outputs": [
    {
     "name": "stdout",
     "output_type": "stream",
     "text": [
      "q4: 0.19, q6: 0.57, q8: 0.40, q10: 0.01, q12: 0.60\n"
     ]
    }
   ],
   "source": [
    "calc_q_pcs(structure=\"fcc\", alat=4.00, reps=(3,3,2))"
   ]
  },
  {
   "cell_type": "markdown",
   "metadata": {},
   "source": [
    "## HCP"
   ]
  },
  {
   "cell_type": "code",
   "execution_count": 95,
   "metadata": {},
   "outputs": [
    {
     "name": "stdout",
     "output_type": "stream",
     "text": [
      "q4: 0.09, q6: 0.48, q8: 0.32, q10: 0.01, q12: 0.56\n"
     ]
    }
   ],
   "source": [
    "calc_q_ase(element=\"Mg\", reps=(1,1,1))"
   ]
  },
  {
   "cell_type": "code",
   "execution_count": 96,
   "metadata": {},
   "outputs": [
    {
     "name": "stdout",
     "output_type": "stream",
     "text": [
      "q4: 0.09, q6: 0.48, q8: 0.32, q10: 0.01, q12: 0.56\n"
     ]
    }
   ],
   "source": [
    "calc_q_ase(element=\"Mg\", reps=(2,2,2))"
   ]
  },
  {
   "cell_type": "code",
   "execution_count": 97,
   "metadata": {},
   "outputs": [
    {
     "name": "stdout",
     "output_type": "stream",
     "text": [
      "q4: 0.09, q6: 0.48, q8: 0.32, q10: 0.01, q12: 0.56\n"
     ]
    }
   ],
   "source": [
    "calc_q_ase(element=\"Mg\", reps=(3,3,3))"
   ]
  },
  {
   "cell_type": "code",
   "execution_count": 98,
   "metadata": {},
   "outputs": [
    {
     "name": "stdout",
     "output_type": "stream",
     "text": [
      "q4: 0.09, q6: 0.48, q8: 0.32, q10: 0.01, q12: 0.56\n"
     ]
    }
   ],
   "source": [
    "calc_q_ase(element=\"Mg\", reps=(3,3,2))"
   ]
  },
  {
   "cell_type": "code",
   "execution_count": 102,
   "metadata": {},
   "outputs": [
    {
     "name": "stdout",
     "output_type": "stream",
     "text": [
      "q4: 0.09, q6: 0.48, q8: 0.32, q10: 0.01, q12: 0.56\n"
     ]
    }
   ],
   "source": [
    "calc_q_pcs(structure=\"hcp\", alat=4.00, reps=(1,1,1), ca_ratio=1.624)"
   ]
  },
  {
   "cell_type": "code",
   "execution_count": 103,
   "metadata": {},
   "outputs": [
    {
     "name": "stdout",
     "output_type": "stream",
     "text": [
      "q4: 0.09, q6: 0.48, q8: 0.32, q10: 0.01, q12: 0.56\n"
     ]
    }
   ],
   "source": [
    "calc_q_pcs(structure=\"hcp\", alat=4.00, reps=(2,2,2), ca_ratio=1.624)"
   ]
  },
  {
   "cell_type": "code",
   "execution_count": 104,
   "metadata": {},
   "outputs": [
    {
     "name": "stdout",
     "output_type": "stream",
     "text": [
      "q4: 0.09, q6: 0.48, q8: 0.32, q10: 0.01, q12: 0.56\n"
     ]
    }
   ],
   "source": [
    "calc_q_pcs(structure=\"hcp\", alat=4.00, reps=(3,3,3), ca_ratio=1.624)"
   ]
  },
  {
   "cell_type": "code",
   "execution_count": 105,
   "metadata": {},
   "outputs": [
    {
     "name": "stdout",
     "output_type": "stream",
     "text": [
      "q4: 0.09, q6: 0.48, q8: 0.32, q10: 0.01, q12: 0.56\n"
     ]
    }
   ],
   "source": [
    "calc_q_pcs(structure=\"hcp\", alat=4.00, reps=(3,3,2), ca_ratio=1.624)"
   ]
  },
  {
   "cell_type": "markdown",
   "metadata": {},
   "source": [
    "## Diamond"
   ]
  },
  {
   "cell_type": "code",
   "execution_count": 106,
   "metadata": {},
   "outputs": [
    {
     "name": "stdout",
     "output_type": "stream",
     "text": [
      "q4: 0.51, q6: 0.63, q8: 0.21, q10: 0.65, q12: 0.42\n"
     ]
    }
   ],
   "source": [
    "calc_q_ase(element=\"Si\", reps=(1,1,1))"
   ]
  },
  {
   "cell_type": "code",
   "execution_count": 107,
   "metadata": {},
   "outputs": [
    {
     "name": "stdout",
     "output_type": "stream",
     "text": [
      "q4: 0.51, q6: 0.63, q8: 0.21, q10: 0.65, q12: 0.42\n"
     ]
    }
   ],
   "source": [
    "calc_q_ase(element=\"Si\", reps=(2,2,2))"
   ]
  },
  {
   "cell_type": "code",
   "execution_count": 108,
   "metadata": {},
   "outputs": [
    {
     "name": "stdout",
     "output_type": "stream",
     "text": [
      "q4: 0.51, q6: 0.63, q8: 0.21, q10: 0.65, q12: 0.42\n"
     ]
    }
   ],
   "source": [
    "calc_q_ase(element=\"Si\", reps=(3,3,3))"
   ]
  },
  {
   "cell_type": "code",
   "execution_count": 109,
   "metadata": {},
   "outputs": [
    {
     "name": "stdout",
     "output_type": "stream",
     "text": [
      "q4: 0.51, q6: 0.63, q8: 0.21, q10: 0.65, q12: 0.42\n"
     ]
    }
   ],
   "source": [
    "calc_q_ase(element=\"Si\", reps=(3,3,2))"
   ]
  },
  {
   "cell_type": "code",
   "execution_count": 110,
   "metadata": {},
   "outputs": [
    {
     "name": "stdout",
     "output_type": "stream",
     "text": [
      "q4: 0.51, q6: 0.63, q8: 0.21, q10: 0.65, q12: 0.42\n"
     ]
    }
   ],
   "source": [
    "calc_q_pcs(structure=\"diamond\", alat=4.00, reps=(1,1,1))"
   ]
  },
  {
   "cell_type": "code",
   "execution_count": 111,
   "metadata": {},
   "outputs": [
    {
     "name": "stdout",
     "output_type": "stream",
     "text": [
      "q4: 0.51, q6: 0.63, q8: 0.21, q10: 0.65, q12: 0.42\n"
     ]
    }
   ],
   "source": [
    "calc_q_pcs(structure=\"diamond\", alat=4.00, reps=(2,2,2))"
   ]
  },
  {
   "cell_type": "code",
   "execution_count": 112,
   "metadata": {},
   "outputs": [
    {
     "name": "stdout",
     "output_type": "stream",
     "text": [
      "q4: 0.51, q6: 0.63, q8: 0.21, q10: 0.65, q12: 0.42\n"
     ]
    }
   ],
   "source": [
    "calc_q_pcs(structure=\"diamond\", alat=4.00, reps=(3,3,3))"
   ]
  },
  {
   "cell_type": "code",
   "execution_count": 113,
   "metadata": {},
   "outputs": [
    {
     "name": "stdout",
     "output_type": "stream",
     "text": [
      "q4: 0.51, q6: 0.63, q8: 0.21, q10: 0.65, q12: 0.42\n"
     ]
    }
   ],
   "source": [
    "calc_q_pcs(structure=\"diamond\", alat=4.00, reps=(3,3,2))"
   ]
  }
 ],
 "metadata": {
  "kernelspec": {
   "display_name": "lammps",
   "language": "python",
   "name": "lammps"
  },
  "language_info": {
   "codemirror_mode": {
    "name": "ipython",
    "version": 3
   },
   "file_extension": ".py",
   "mimetype": "text/x-python",
   "name": "python",
   "nbconvert_exporter": "python",
   "pygments_lexer": "ipython3",
   "version": "3.7.6"
  }
 },
 "nbformat": 4,
 "nbformat_minor": 4
}
